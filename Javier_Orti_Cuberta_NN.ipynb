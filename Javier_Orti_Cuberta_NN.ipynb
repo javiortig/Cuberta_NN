{
  "nbformat": 4,
  "nbformat_minor": 0,
  "metadata": {
    "colab": {
      "name": "Javier_Orti_Cuberta_NN.ipynb",
      "provenance": [],
      "collapsed_sections": [],
      "authorship_tag": "ABX9TyNKomg5+PQ3FFfJSEfilqjz",
      "include_colab_link": true
    },
    "kernelspec": {
      "name": "python3",
      "display_name": "Python 3"
    }
  },
  "cells": [
    {
      "cell_type": "markdown",
      "metadata": {
        "id": "view-in-github",
        "colab_type": "text"
      },
      "source": [
        "<a href=\"https://colab.research.google.com/github/javiortig/Cuberta_NN/blob/main/Javier_Orti_Cuberta_NN.ipynb\" target=\"_parent\"><img src=\"https://colab.research.google.com/assets/colab-badge.svg\" alt=\"Open In Colab\"/></a>"
      ]
    },
    {
      "cell_type": "markdown",
      "metadata": {
        "id": "I-3Nx0KokSMC"
      },
      "source": [
        "#**CUBERTA, A NEURAL NETWORK FOR US STOCK ANALYSIS**  \n",
        "---  \n",
        "  \n",
        "## A bit of background:\n",
        "As a young computer science student and a [value investor][1] in the stock market, I always wondered if at some point I could do some research to fuse those different worlds in a fresh new project. Thats when I bumped into the world of machine learning, then deep learning, and now Neural Networks. Let me introduce you to the new predicting model: *Cuberta*. \n",
        "\n",
        "## Project Setup:\n",
        "*Cuberta* consist in a multi-layered Neural Network that looks forward predicting the average stock price growth and the [dividend yield][2] of a company the next fiscal year, based on a series of fundamental stock analysis ratios.\n",
        "In order to keep everyone in track, lets leave an example:  \n",
        "\n",
        "In 2019, IBM had an average price of 126\\\\$ per stock.  \n",
        "In 2020, IBM had an average price of 114\\\\$ per stock, with a dividend yield of 0.052.\n",
        "The aim of *Cuberta* is to predict (the Y, or Labels) the average stock price growth from 2019 to 2020, 114/126=0.9047 (which is actually degrowth) and a diviend yield of 0.052 per stock.\n",
        "\n",
        "As many readers will know, playing with $X \\in[-1, 1]$ rather than $X\\in{\\Bbb R}$ is, in general terms, a good practice when working with this kind of algorithms, and that's what we will aim for.\n",
        "\n",
        "\n",
        "[1]: https://en.wikipedia.org/wiki/Value_investing\n",
        "[2]: https://en.wikipedia.org/wiki/Dividend_yield\n"
      ]
    },
    {
      "cell_type": "code",
      "metadata": {
        "colab": {
          "base_uri": "https://localhost:8080/"
        },
        "id": "daq05k6yQ7on",
        "outputId": "7acfc45f-a381-4807-8c5c-b072506def1c"
      },
      "source": [
        "%tensorflow_version 2.x  # Execute only if you are on a notebook"
      ],
      "execution_count": 1,
      "outputs": [
        {
          "output_type": "stream",
          "text": [
            "`%tensorflow_version` only switches the major version: 1.x or 2.x.\n",
            "You set: `2.x  # Execute only if you are on a notebook`. This will be interpreted as: `2.x`.\n",
            "\n",
            "\n",
            "TensorFlow 2.x selected.\n"
          ],
          "name": "stdout"
        }
      ]
    },
    {
      "cell_type": "code",
      "metadata": {
        "id": "rMHX1Md8QtlP"
      },
      "source": [
        "# TensorFlow and Keras\n",
        "import tensorflow as tf\n",
        "from tensorflow import keras\n",
        "\n",
        "# Some useful libs\n",
        "import numpy as np\n",
        "import matplotlib.pyplot as plt"
      ],
      "execution_count": 2,
      "outputs": []
    }
  ]
}